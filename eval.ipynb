{
 "cells": [
  {
   "cell_type": "code",
   "execution_count": 17,
   "metadata": {},
   "outputs": [],
   "source": [
    "import pandas as pd\n",
    "import json\n",
    "import matplotlib.pyplot as plt\n",
    "import seaborn as sns\n",
    "from src.llm_utils import regex_extraction"
   ]
  },
  {
   "cell_type": "code",
   "execution_count": 7,
   "metadata": {},
   "outputs": [],
   "source": [
    "ground_truth_path = \"data/TeleQnA.txt\"\n",
    "with open(ground_truth_path, encoding=\"utf-8\") as f:\n",
    "    loaded_json = f.read()\n",
    "    ground_truth_qa = json.loads(loaded_json)"
   ]
  },
  {
   "cell_type": "code",
   "execution_count": 32,
   "metadata": {},
   "outputs": [
    {
     "data": {
      "text/html": [
       "<div>\n",
       "<style scoped>\n",
       "    .dataframe tbody tr th:only-of-type {\n",
       "        vertical-align: middle;\n",
       "    }\n",
       "\n",
       "    .dataframe tbody tr th {\n",
       "        vertical-align: top;\n",
       "    }\n",
       "\n",
       "    .dataframe thead th {\n",
       "        text-align: right;\n",
       "    }\n",
       "</style>\n",
       "<table border=\"1\" class=\"dataframe\">\n",
       "  <thead>\n",
       "    <tr style=\"text-align: right;\">\n",
       "      <th></th>\n",
       "      <th>Question_ID</th>\n",
       "      <th>Answer_ID</th>\n",
       "      <th>Task</th>\n",
       "    </tr>\n",
       "  </thead>\n",
       "  <tbody>\n",
       "    <tr>\n",
       "      <th>0</th>\n",
       "      <td>8138</td>\n",
       "      <td>-1</td>\n",
       "      <td>Phi-2</td>\n",
       "    </tr>\n",
       "    <tr>\n",
       "      <th>1</th>\n",
       "      <td>8153</td>\n",
       "      <td>2</td>\n",
       "      <td>Phi-2</td>\n",
       "    </tr>\n",
       "    <tr>\n",
       "      <th>2</th>\n",
       "      <td>8156</td>\n",
       "      <td>1</td>\n",
       "      <td>Phi-2</td>\n",
       "    </tr>\n",
       "    <tr>\n",
       "      <th>3</th>\n",
       "      <td>8160</td>\n",
       "      <td>3</td>\n",
       "      <td>Phi-2</td>\n",
       "    </tr>\n",
       "    <tr>\n",
       "      <th>4</th>\n",
       "      <td>8165</td>\n",
       "      <td>2</td>\n",
       "      <td>Phi-2</td>\n",
       "    </tr>\n",
       "    <tr>\n",
       "      <th>...</th>\n",
       "      <td>...</td>\n",
       "      <td>...</td>\n",
       "      <td>...</td>\n",
       "    </tr>\n",
       "    <tr>\n",
       "      <th>361</th>\n",
       "      <td>9974</td>\n",
       "      <td>3</td>\n",
       "      <td>Phi-2</td>\n",
       "    </tr>\n",
       "    <tr>\n",
       "      <th>362</th>\n",
       "      <td>9984</td>\n",
       "      <td>2</td>\n",
       "      <td>Phi-2</td>\n",
       "    </tr>\n",
       "    <tr>\n",
       "      <th>363</th>\n",
       "      <td>9986</td>\n",
       "      <td>2</td>\n",
       "      <td>Phi-2</td>\n",
       "    </tr>\n",
       "    <tr>\n",
       "      <th>364</th>\n",
       "      <td>9992</td>\n",
       "      <td>2</td>\n",
       "      <td>Phi-2</td>\n",
       "    </tr>\n",
       "    <tr>\n",
       "      <th>365</th>\n",
       "      <td>9999</td>\n",
       "      <td>1</td>\n",
       "      <td>Phi-2</td>\n",
       "    </tr>\n",
       "  </tbody>\n",
       "</table>\n",
       "<p>366 rows × 3 columns</p>\n",
       "</div>"
      ],
      "text/plain": [
       "     Question_ID  Answer_ID   Task\n",
       "0           8138         -1  Phi-2\n",
       "1           8153          2  Phi-2\n",
       "2           8156          1  Phi-2\n",
       "3           8160          3  Phi-2\n",
       "4           8165          2  Phi-2\n",
       "..           ...        ...    ...\n",
       "361         9974          3  Phi-2\n",
       "362         9984          2  Phi-2\n",
       "363         9986          2  Phi-2\n",
       "364         9992          2  Phi-2\n",
       "365         9999          1  Phi-2\n",
       "\n",
       "[366 rows x 3 columns]"
      ]
     },
     "execution_count": 32,
     "metadata": {},
     "output_type": "execute_result"
    }
   ],
   "source": [
    "df_answer_sheet = pd.read_csv('output/phi2_answer_sheet_final.csv')\n",
    "df_answer_sheet"
   ]
  },
  {
   "cell_type": "code",
   "execution_count": 33,
   "metadata": {},
   "outputs": [
    {
     "data": {
      "text/html": [
       "<div>\n",
       "<style scoped>\n",
       "    .dataframe tbody tr th:only-of-type {\n",
       "        vertical-align: middle;\n",
       "    }\n",
       "\n",
       "    .dataframe tbody tr th {\n",
       "        vertical-align: top;\n",
       "    }\n",
       "\n",
       "    .dataframe thead th {\n",
       "        text-align: right;\n",
       "    }\n",
       "</style>\n",
       "<table border=\"1\" class=\"dataframe\">\n",
       "  <thead>\n",
       "    <tr style=\"text-align: right;\">\n",
       "      <th></th>\n",
       "      <th>Question_ID</th>\n",
       "      <th>Answer_ID</th>\n",
       "      <th>Task</th>\n",
       "      <th>Ground_truth_option</th>\n",
       "      <th>Ground_truth_category</th>\n",
       "    </tr>\n",
       "  </thead>\n",
       "  <tbody>\n",
       "    <tr>\n",
       "      <th>0</th>\n",
       "      <td>8138</td>\n",
       "      <td>-1</td>\n",
       "      <td>Phi-2</td>\n",
       "      <td>3</td>\n",
       "      <td>Standards specifications</td>\n",
       "    </tr>\n",
       "    <tr>\n",
       "      <th>1</th>\n",
       "      <td>8153</td>\n",
       "      <td>2</td>\n",
       "      <td>Phi-2</td>\n",
       "      <td>5</td>\n",
       "      <td>Standards specifications</td>\n",
       "    </tr>\n",
       "    <tr>\n",
       "      <th>2</th>\n",
       "      <td>8156</td>\n",
       "      <td>1</td>\n",
       "      <td>Phi-2</td>\n",
       "      <td>3</td>\n",
       "      <td>Standards specifications</td>\n",
       "    </tr>\n",
       "    <tr>\n",
       "      <th>3</th>\n",
       "      <td>8160</td>\n",
       "      <td>3</td>\n",
       "      <td>Phi-2</td>\n",
       "      <td>3</td>\n",
       "      <td>Standards specifications</td>\n",
       "    </tr>\n",
       "    <tr>\n",
       "      <th>4</th>\n",
       "      <td>8165</td>\n",
       "      <td>2</td>\n",
       "      <td>Phi-2</td>\n",
       "      <td>4</td>\n",
       "      <td>Standards specifications</td>\n",
       "    </tr>\n",
       "    <tr>\n",
       "      <th>...</th>\n",
       "      <td>...</td>\n",
       "      <td>...</td>\n",
       "      <td>...</td>\n",
       "      <td>...</td>\n",
       "      <td>...</td>\n",
       "    </tr>\n",
       "    <tr>\n",
       "      <th>361</th>\n",
       "      <td>9974</td>\n",
       "      <td>3</td>\n",
       "      <td>Phi-2</td>\n",
       "      <td>3</td>\n",
       "      <td>Standards specifications</td>\n",
       "    </tr>\n",
       "    <tr>\n",
       "      <th>362</th>\n",
       "      <td>9984</td>\n",
       "      <td>2</td>\n",
       "      <td>Phi-2</td>\n",
       "      <td>2</td>\n",
       "      <td>Standards overview</td>\n",
       "    </tr>\n",
       "    <tr>\n",
       "      <th>363</th>\n",
       "      <td>9986</td>\n",
       "      <td>2</td>\n",
       "      <td>Phi-2</td>\n",
       "      <td>1</td>\n",
       "      <td>Standards specifications</td>\n",
       "    </tr>\n",
       "    <tr>\n",
       "      <th>364</th>\n",
       "      <td>9992</td>\n",
       "      <td>2</td>\n",
       "      <td>Phi-2</td>\n",
       "      <td>1</td>\n",
       "      <td>Standards specifications</td>\n",
       "    </tr>\n",
       "    <tr>\n",
       "      <th>365</th>\n",
       "      <td>9999</td>\n",
       "      <td>1</td>\n",
       "      <td>Phi-2</td>\n",
       "      <td>4</td>\n",
       "      <td>Standards specifications</td>\n",
       "    </tr>\n",
       "  </tbody>\n",
       "</table>\n",
       "<p>366 rows × 5 columns</p>\n",
       "</div>"
      ],
      "text/plain": [
       "     Question_ID  Answer_ID   Task  Ground_truth_option  \\\n",
       "0           8138         -1  Phi-2                    3   \n",
       "1           8153          2  Phi-2                    5   \n",
       "2           8156          1  Phi-2                    3   \n",
       "3           8160          3  Phi-2                    3   \n",
       "4           8165          2  Phi-2                    4   \n",
       "..           ...        ...    ...                  ...   \n",
       "361         9974          3  Phi-2                    3   \n",
       "362         9984          2  Phi-2                    2   \n",
       "363         9986          2  Phi-2                    1   \n",
       "364         9992          2  Phi-2                    1   \n",
       "365         9999          1  Phi-2                    4   \n",
       "\n",
       "        Ground_truth_category  \n",
       "0    Standards specifications  \n",
       "1    Standards specifications  \n",
       "2    Standards specifications  \n",
       "3    Standards specifications  \n",
       "4    Standards specifications  \n",
       "..                        ...  \n",
       "361  Standards specifications  \n",
       "362        Standards overview  \n",
       "363  Standards specifications  \n",
       "364  Standards specifications  \n",
       "365  Standards specifications  \n",
       "\n",
       "[366 rows x 5 columns]"
      ]
     },
     "execution_count": 33,
     "metadata": {},
     "output_type": "execute_result"
    }
   ],
   "source": [
    "def apply_gt_answer(row):\n",
    "    ground_truth_answer = ground_truth_qa[f\"question {row['Question_ID']}\"]['answer']\n",
    "    pred_option = regex_extraction(ground_truth_answer, r\"option (\\d+):\")\n",
    "    return pred_option\n",
    "\n",
    "def apply_gt_category(row):\n",
    "    ground_truth_category = ground_truth_qa[f\"question {row['Question_ID']}\"]['category']\n",
    "    return ground_truth_category\n",
    "\n",
    "df_answer_sheet['Ground_truth_option'] = df_answer_sheet.apply(apply_gt_answer, axis=1)\n",
    "df_answer_sheet['Ground_truth_category'] = df_answer_sheet.apply(apply_gt_category, axis=1)\n",
    "df_answer_sheet"
   ]
  },
  {
   "cell_type": "markdown",
   "metadata": {},
   "source": [
    "## Accuracy"
   ]
  },
  {
   "cell_type": "code",
   "execution_count": 34,
   "metadata": {},
   "outputs": [
    {
     "data": {
      "text/plain": [
       "0.3114754098360656"
      ]
     },
     "execution_count": 34,
     "metadata": {},
     "output_type": "execute_result"
    }
   ],
   "source": [
    "# calc accuracy and accuracy by category \n",
    "df_answer_sheet['Correct'] = df_answer_sheet['Ground_truth_option'] == df_answer_sheet['Answer_ID']\n",
    "df_answer_sheet['Correct'].mean()"
   ]
  },
  {
   "cell_type": "markdown",
   "metadata": {},
   "source": [
    "## Accuracy by Category"
   ]
  },
  {
   "cell_type": "code",
   "execution_count": 36,
   "metadata": {},
   "outputs": [
    {
     "data": {
      "text/plain": [
       "Ground_truth_category\n",
       "Standards overview          0.428571\n",
       "Standards specifications    0.287129\n",
       "Name: Correct, dtype: float64"
      ]
     },
     "execution_count": 36,
     "metadata": {},
     "output_type": "execute_result"
    }
   ],
   "source": [
    "acc_by_category = df_answer_sheet.groupby('Ground_truth_category')['Correct'].mean()\n",
    "acc_by_category"
   ]
  },
  {
   "cell_type": "code",
   "execution_count": 38,
   "metadata": {},
   "outputs": [
    {
     "name": "stderr",
     "output_type": "stream",
     "text": [
      "Matplotlib is building the font cache; this may take a moment.\n"
     ]
    },
    {
     "data": {
      "image/png": "[encoded data removed]",
      "text/plain": [
       "<Figure size 1000x600 with 1 Axes>"
      ]
     },
     "metadata": {},
     "output_type": "display_data"
    }
   ],
   "source": [
    "plt.figure(figsize=(10, 6))\n",
    "sns.barplot(x=acc_by_category.index, y=acc_by_category.values)\n",
    "plt.xticks(rotation=45)\n",
    "plt.title('Accuracy by category')\n",
    "plt.show()\n"
   ]
  }
 ],
 "metadata": {
  "kernelspec": {
   "display_name": "teleqna",
   "language": "python",
   "name": "python3"
  },
  "language_info": {
   "codemirror_mode": {
    "name": "ipython",
    "version": 3
   },
   "file_extension": ".py",
   "mimetype": "text/x-python",
   "name": "python",
   "nbconvert_exporter": "python",
   "pygments_lexer": "ipython3",
   "version": "3.12.3"
  }
 },
 "nbformat": 4,
 "nbformat_minor": 2
}
